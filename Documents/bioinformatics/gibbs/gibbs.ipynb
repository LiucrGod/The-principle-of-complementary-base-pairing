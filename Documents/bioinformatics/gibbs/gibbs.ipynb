{
 "cells": [
  {
   "cell_type": "code",
   "execution_count": 55,
   "metadata": {},
   "outputs": [],
   "source": [
    "from numpy.random import randint\n",
    "from numpy.random import rand\n",
    "import numpy as np"
   ]
  },
  {
   "cell_type": "code",
   "execution_count": 56,
   "metadata": {},
   "outputs": [],
   "source": [
    "def calc_score(seq,motif_length,p,q):\n",
    "    N = len(seq)\n",
    "    qx = [1]*(N-motif_length+1)\n",
    "    px = [1]*(N-motif_length+1)\n",
    "    for j in xrange(N-motif_length+1):\n",
    "        for k in xrange(motif_length):\n",
    "            c = seq[j+k]\n",
    "            qx[j] = qx[j] * q[c][k]\n",
    "            px[j] = px[j] * p[c]\n",
    "            \n",
    "    Aj = [x/y for (x,y) in zip(qx, px)]\n",
    "    norm_c = sum(Aj)\n",
    "    return map(lambda x: x/norm_c, Aj)"
   ]
  },
  {
   "cell_type": "code",
   "execution_count": 57,
   "metadata": {
    "collapsed": true
   },
   "outputs": [],
   "source": [
    "def gibbs(DNA_seq, w):\n",
    "    \n",
    "    K = len(DNA_seq)\n",
    "    \n",
    "    amino_acid = []\n",
    "    for seq in DNA_seq:\n",
    "        for acid in seq:\n",
    "            amino_acid.append(acid)\n",
    "    \n",
    "    alp = list(set(amino_acid))\n",
    "    \n",
    "    pos = [randint(0, len(seq)-w+1) for seq in DNA_seq]  \n",
    "\n",
    "    end_position = None\n",
    "    while end_position != pos:\n",
    "        end_position = pos[:]\n",
    "        for i in xrange(K):\n",
    "\n",
    "            seq_minus = DNA_seq[:]\n",
    "            del seq_minus[i]\n",
    "            pos_minus = pos[:]\n",
    "            del pos_minus[i]\n",
    "            q, p = compute_model(seq_minus, pos_minus, alp, w)\n",
    "\n",
    "\n",
    "            Aj = calc_score(DNA_seq[i], w,p,q)\n",
    "            pos[i] = sample(range(len(DNA_seq[i])-w+1), Aj)\n",
    "    return pos"
   ]
  },
  {
   "cell_type": "code",
   "execution_count": 58,
   "metadata": {
    "collapsed": true
   },
   "outputs": [],
   "source": [
    "def compute(DNA_seq, pos, alp, w):\n",
    "\n",
    "    q = {x:[1]*w for x in alp}\n",
    "    p = {x: 1 for x in alp}\n",
    "    \n",
    "    for i in xrange(len(DNA_seq)):\n",
    "        start_pos = pos[i]        \n",
    "        for j in xrange(w):\n",
    "            c = DNA_seq[i][start_pos+j]\n",
    "            q[c][j] += 1\n",
    "    for c in alp:\n",
    "        for j in xrange(w):\n",
    "            q[c][j] = q[c][j] / float( len(DNA_seq)+len(alp) )\n",
    "    for i in xrange(len(DNA_seq)):\n",
    "        for j in xrange(len(DNA_seq[i])):\n",
    "            if j < pos[i] or j > pos[i]+w:\n",
    "                c = DNA_seq[i][j]\n",
    "                p[c] += 1\n",
    "    total = sum(p.values())\n",
    "    for c in alp:\n",
    "        p[c] = p[c] / float(total)\n",
    "    \n",
    "    return q, p"
   ]
  },
  {
   "cell_type": "code",
   "execution_count": 59,
   "metadata": {
    "collapsed": true
   },
   "outputs": [],
   "source": [
    "def sample(alp, dist):\n",
    "    sample = None\n",
    "    cum_dist = np.cumsum(dist)\n",
    "    r = rand()\n",
    "    for i in xrange(len(dist)):\n",
    "        if r < cum_dist[i]:\n",
    "            sample = alp[i]\n",
    "            break\n",
    "    \n",
    "    return sample"
   ]
  },
  {
   "cell_type": "code",
   "execution_count": 60,
   "metadata": {},
   "outputs": [
    {
     "name": "stdout",
     "output_type": "stream",
     "text": [
      "[2]\n"
     ]
    }
   ],
   "source": [
    "seqs = ['GAGTATACCT']\n",
    "k = 3\n",
    "print gibbs(seqs, 7)"
   ]
  },
  {
   "cell_type": "code",
   "execution_count": null,
   "metadata": {
    "collapsed": true
   },
   "outputs": [],
   "source": []
  },
  {
   "cell_type": "code",
   "execution_count": null,
   "metadata": {
    "collapsed": true
   },
   "outputs": [],
   "source": []
  }
 ],
 "metadata": {
  "kernelspec": {
   "display_name": "Python 2",
   "language": "python",
   "name": "python2"
  },
  "language_info": {
   "codemirror_mode": {
    "name": "ipython",
    "version": 2
   },
   "file_extension": ".py",
   "mimetype": "text/x-python",
   "name": "python",
   "nbconvert_exporter": "python",
   "pygments_lexer": "ipython2",
   "version": "2.7.12"
  }
 },
 "nbformat": 4,
 "nbformat_minor": 2
}
